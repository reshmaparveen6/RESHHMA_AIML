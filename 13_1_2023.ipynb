{
  "nbformat": 4,
  "nbformat_minor": 0,
  "metadata": {
    "colab": {
      "provenance": [],
      "authorship_tag": "ABX9TyOWe+ZuAvmewWvTloWY+NQ3",
      "include_colab_link": true
    },
    "kernelspec": {
      "name": "python3",
      "display_name": "Python 3"
    },
    "language_info": {
      "name": "python"
    }
  },
  "cells": [
    {
      "cell_type": "markdown",
      "metadata": {
        "id": "view-in-github",
        "colab_type": "text"
      },
      "source": [
        "<a href=\"https://colab.research.google.com/github/reshmaparveen6/RESHHMA_AIML/blob/main/13_1_2023.ipynb\" target=\"_parent\"><img src=\"https://colab.research.google.com/assets/colab-badge.svg\" alt=\"Open In Colab\"/></a>"
      ]
    },
    {
      "cell_type": "code",
      "execution_count": null,
      "metadata": {
        "id": "yP5TopsWqOck",
        "colab": {
          "base_uri": "https://localhost:8080/"
        },
        "outputId": "4b55478c-5697-4433-e5db-f6fb27195e65"
      },
      "outputs": [
        {
          "output_type": "stream",
          "name": "stdout",
          "text": [
            "hello\n"
          ]
        }
      ],
      "source": [
        "print(\"hello\")"
      ]
    },
    {
      "cell_type": "code",
      "source": [
        "#binary literal\n",
        "x=0b10100\n",
        "#decimal literal\n",
        "y=100\n",
        "#octal literal\n",
        "z=0o217\n",
        "#hexadecimal literal\n",
        "u=0x12d\n",
        "#float literal\n",
        "float_1=10.5\n",
        "float_2=1.5e2\n",
        "#complex literal\n",
        "a=5+3.14j\n",
        "print(x,y,z,u)\n",
        "print(float_1,float_2)\n",
        "print(a,a.imag,a.real)"
      ],
      "metadata": {
        "colab": {
          "base_uri": "https://localhost:8080/"
        },
        "id": "fbleQNdscEef",
        "outputId": "af95e38d-1fe1-4091-a4a8-548455e671d3"
      },
      "execution_count": null,
      "outputs": [
        {
          "output_type": "stream",
          "name": "stdout",
          "text": [
            "20 100 143 301\n",
            "10.5 150.0\n",
            "(5+3.14j) 3.14 5.0\n"
          ]
        }
      ]
    },
    {
      "cell_type": "code",
      "source": [
        "a=2+5j\n",
        "b=3+10j\n",
        "c=a+b\n",
        "print(c)"
      ],
      "metadata": {
        "colab": {
          "base_uri": "https://localhost:8080/"
        },
        "id": "Jc5RxL0AmjD_",
        "outputId": "ce8438a1-ac37-4bda-8f23-04a98afe8a4e"
      },
      "execution_count": null,
      "outputs": [
        {
          "output_type": "stream",
          "name": "stdout",
          "text": [
            "(5+15j)\n"
          ]
        }
      ]
    },
    {
      "cell_type": "code",
      "source": [
        "a=2\n",
        "b=5\n",
        "print(2**5)\n",
        "#power"
      ],
      "metadata": {
        "colab": {
          "base_uri": "https://localhost:8080/"
        },
        "id": "XghDaXm9bmfy",
        "outputId": "f348a34e-caf6-43bb-d38a-cdae31986db5"
      },
      "execution_count": 1,
      "outputs": [
        {
          "output_type": "stream",
          "name": "stdout",
          "text": [
            "32\n"
          ]
        }
      ]
    },
    {
      "cell_type": "code",
      "source": [
        "a=8\n",
        "b=3\n",
        "print(a/b)\n",
        "print(a//b)"
      ],
      "metadata": {
        "colab": {
          "base_uri": "https://localhost:8080/"
        },
        "id": "uZyj4q_JcSkG",
        "outputId": "ffe918f3-da54-4b9e-abc0-80212b3e9df0"
      },
      "execution_count": 2,
      "outputs": [
        {
          "output_type": "stream",
          "name": "stdout",
          "text": [
            "2.6666666666666665\n",
            "2\n"
          ]
        }
      ]
    },
    {
      "cell_type": "code",
      "source": [
        "#comparision\n",
        "a=True\n",
        "b=True\n",
        "c=False\n",
        "print(a and b)\n",
        "print(a and c)\n",
        "print(a or c)\n",
        "print(not c)"
      ],
      "metadata": {
        "colab": {
          "base_uri": "https://localhost:8080/"
        },
        "id": "3yBKL9nXdUnO",
        "outputId": "af5c5b5c-35e0-4cbc-ccf4-2286de845d80"
      },
      "execution_count": 6,
      "outputs": [
        {
          "output_type": "stream",
          "name": "stdout",
          "text": [
            "True\n",
            "False\n",
            "True\n",
            "True\n"
          ]
        }
      ]
    },
    {
      "cell_type": "code",
      "source": [
        "a=5\n",
        "b=2\n",
        "print(a<<b)\n",
        "#leftshift the instant formal values * 2 ^ bit position\n",
        "#for rightshift value / 2^bit postion\n",
        "a=5\n",
        "b=2\n",
        "print(a>>b)"
      ],
      "metadata": {
        "colab": {
          "base_uri": "https://localhost:8080/"
        },
        "id": "g2eF-HVdeodg",
        "outputId": "8fff20ac-687a-47a3-ec31-7747f53b2ff2"
      },
      "execution_count": 8,
      "outputs": [
        {
          "output_type": "stream",
          "name": "stdout",
          "text": [
            "20\n",
            "1\n"
          ]
        }
      ]
    },
    {
      "cell_type": "code",
      "source": [
        "x=5\n",
        "x+=5\n",
        "print(x)\n",
        "x-=5\n",
        "print(x)\n",
        "x*=5\n",
        "print(x)\n",
        "x/=5\n",
        "print(x)\n",
        "x%=5\n",
        "print(x)\n",
        "x//=5\n",
        "print(x)\n",
        "x**=5\n",
        "print(x)\n",
        "#assignment operator\n",
        "\n"
      ],
      "metadata": {
        "colab": {
          "base_uri": "https://localhost:8080/"
        },
        "id": "2BBLO4G2gPIw",
        "outputId": "eb3fe68b-2cb4-477a-f23b-bbc9cc86e8ad"
      },
      "execution_count": 11,
      "outputs": [
        {
          "output_type": "stream",
          "name": "stdout",
          "text": [
            "10\n",
            "5\n",
            "25\n",
            "5.0\n",
            "0.0\n",
            "0.0\n",
            "0.0\n"
          ]
        }
      ]
    },
    {
      "cell_type": "code",
      "source": [
        "x=5\n",
        "y=5\n",
        "print(x is y)\n",
        "y=6\n",
        "print(x is not y)\n",
        "#special operator"
      ],
      "metadata": {
        "colab": {
          "base_uri": "https://localhost:8080/"
        },
        "id": "vMgpitgJhvf9",
        "outputId": "b966162b-dfaa-46aa-94f6-4837e57559c7"
      },
      "execution_count": 12,
      "outputs": [
        {
          "output_type": "stream",
          "name": "stdout",
          "text": [
            "True\n",
            "True\n"
          ]
        }
      ]
    },
    {
      "cell_type": "code",
      "source": [
        "#membership operator\n",
        "a=\"hello\"\n",
        "print('a' in a)\n",
        "print('a' not in a)"
      ],
      "metadata": {
        "colab": {
          "base_uri": "https://localhost:8080/"
        },
        "id": "6BaDleLsjb6n",
        "outputId": "51459f51-a0f4-4e62-ae5e-62aa206f66ad"
      },
      "execution_count": 14,
      "outputs": [
        {
          "output_type": "stream",
          "name": "stdout",
          "text": [
            "False\n",
            "True\n"
          ]
        }
      ]
    },
    {
      "cell_type": "code",
      "source": [
        "num=int(input(\"enter the number\"))\n",
        "if num%2==0:\n",
        "  print(\"even no\" ,num)"
      ],
      "metadata": {
        "colab": {
          "base_uri": "https://localhost:8080/"
        },
        "id": "kCpijspCkf9J",
        "outputId": "e8fe5cdb-0e72-4b2c-a856-c4e886b22da8"
      },
      "execution_count": 19,
      "outputs": [
        {
          "output_type": "stream",
          "name": "stdout",
          "text": [
            "enter the number4\n",
            "even no 4\n"
          ]
        }
      ]
    },
    {
      "cell_type": "code",
      "source": [
        "num=int(input(\"enter the number\"))\n",
        "if num%2==0:\n",
        "  print(\"even no\" ,num)\n",
        "else:\n",
        "  print(\"odd no\",num)"
      ],
      "metadata": {
        "colab": {
          "base_uri": "https://localhost:8080/"
        },
        "id": "QK81IskSlkSE",
        "outputId": "fd351a78-cf5f-4e0a-920d-7d004fd266e3"
      },
      "execution_count": 20,
      "outputs": [
        {
          "output_type": "stream",
          "name": "stdout",
          "text": [
            "enter the number7\n",
            "odd no 7\n"
          ]
        }
      ]
    },
    {
      "cell_type": "code",
      "source": [
        "#using if -elif statement\n",
        "number=int(input(\"enter the number\"))\n",
        "if number==10:\n",
        "  print(\"number is equals to 10\")\n",
        "elif number ==50:\n",
        "  print(\"number is equals to 50\")\n",
        "elif number ==100:\n",
        "  print(\"number is equals to 100\")\n",
        "else:\n",
        "  print(\"number is not equals to 10,50 or 100\")"
      ],
      "metadata": {
        "colab": {
          "base_uri": "https://localhost:8080/"
        },
        "id": "loi3SoxymRnt",
        "outputId": "53cc5fe3-c149-4108-b90d-5ef7e4335789"
      },
      "execution_count": 23,
      "outputs": [
        {
          "output_type": "stream",
          "name": "stdout",
          "text": [
            "enter the number70\n",
            "number is not equals to 10,50 or 100\n"
          ]
        }
      ]
    },
    {
      "cell_type": "code",
      "source": [
        "str=\"reshma\"\n",
        "for i in str:\n",
        "  print(i)"
      ],
      "metadata": {
        "colab": {
          "base_uri": "https://localhost:8080/"
        },
        "id": "usrIp-5Yo5Pi",
        "outputId": "54c0aa80-ba0c-461e-ac7e-c630095338ba"
      },
      "execution_count": 24,
      "outputs": [
        {
          "output_type": "stream",
          "name": "stdout",
          "text": [
            "r\n",
            "e\n",
            "s\n",
            "h\n",
            "m\n",
            "a\n"
          ]
        }
      ]
    }
  ]
}